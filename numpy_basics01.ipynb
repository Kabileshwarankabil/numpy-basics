{
  "nbformat": 4,
  "nbformat_minor": 0,
  "metadata": {
    "colab": {
      "provenance": [],
      "authorship_tag": "ABX9TyO4oOOdfdF9TfpweuqczZcE",
      "include_colab_link": true
    },
    "kernelspec": {
      "name": "python3",
      "display_name": "Python 3"
    },
    "language_info": {
      "name": "python"
    }
  },
  "cells": [
    {
      "cell_type": "markdown",
      "metadata": {
        "id": "view-in-github",
        "colab_type": "text"
      },
      "source": [
        "<a href=\"https://colab.research.google.com/github/Kabileshwarankabil/numpy-basics/blob/main/numpy_basics01.ipynb\" target=\"_parent\"><img src=\"https://colab.research.google.com/assets/colab-badge.svg\" alt=\"Open In Colab\"/></a>"
      ]
    },
    {
      "cell_type": "markdown",
      "source": [
        "# **NUMPY** (Numerical Python)\n",
        "NumPy (Numerical Python) is an open source Python library that’s widely used in science and engineering. The NumPy library contains multidimensional array data structures, such as the homogeneous, N-dimensional ndarray, and a large library of functions that operate efficiently on these data structures."
      ],
      "metadata": {
        "id": "WfFcH5esRpG_"
      }
    },
    {
      "cell_type": "code",
      "execution_count": 1,
      "metadata": {
        "id": "s1su0MTTQvo5"
      },
      "outputs": [],
      "source": [
        "import numpy as np"
      ]
    },
    {
      "cell_type": "code",
      "source": [
        "a=np.array([[1,2,3],[4,5,6],[7,8,9]])# two dimensional array\n",
        "print(a)"
      ],
      "metadata": {
        "colab": {
          "base_uri": "https://localhost:8080/"
        },
        "id": "8KMB3_nrSk93",
        "outputId": "4e5597ad-e424-4311-a4a5-93323ce5539f"
      },
      "execution_count": 3,
      "outputs": [
        {
          "output_type": "stream",
          "name": "stdout",
          "text": [
            "[[1 2 3]\n",
            " [4 5 6]\n",
            " [7 8 9]]\n"
          ]
        }
      ]
    },
    {
      "cell_type": "markdown",
      "source": [
        "# Why use NumPy?\n",
        "Python lists are excellent, general-purpose containers. They can be “heterogeneous”, meaning that they can contain elements of a variety of types, and they are quite fast when used to perform individual operations on a handful of elements.\n",
        "\n",
        "Depending on the characteristics of the data and the types of operations that need to be performed, other containers may be more appropriate; by exploiting these characteristics, we can improve speed, reduce memory consumption, and offer a high-level syntax for performing a variety of common processing tasks. NumPy shines when there are large quantities of “homogeneous” (same-type) data to be processed on the CPU.\n",
        "\n",
        "## Most NumPy arrays have some restrictions. For instance:\n",
        "\n",
        "-  All elements of the array must be of the same type of data.\n",
        "-  Once created, the total size of the array can’t change.\n",
        "- The shape must be “rectangular”, not “jagged”; e.g., each row of a two-dimensional array must have the same number of columns.\n",
        "\n",
        "When these conditions are met, NumPy exploits these characteristics to make the array faster, more memory efficient, and more convenient to use than less restrictive data structures."
      ],
      "metadata": {
        "id": "mWCAWnQcTUMh"
      }
    },
    {
      "cell_type": "code",
      "source": [
        "arr=np.array([2,4,6,8,10,12,14])\n",
        "print(arr)\n",
        "# print each elements of the array with it's index\n",
        "for i in range(len(arr)):\n",
        "    print(f'{arr[i]} is at index {i}')\n"
      ],
      "metadata": {
        "colab": {
          "base_uri": "https://localhost:8080/"
        },
        "id": "CJJtJKzWTXol",
        "outputId": "535a7b42-2730-45cf-dc09-10989bff133e"
      },
      "execution_count": 4,
      "outputs": [
        {
          "output_type": "stream",
          "name": "stdout",
          "text": [
            "[ 2  4  6  8 10 12 14]\n",
            "2 is at index 0\n",
            "4 is at index 1\n",
            "6 is at index 2\n",
            "8 is at index 3\n",
            "10 is at index 4\n",
            "12 is at index 5\n",
            "14 is at index 6\n"
          ]
        }
      ]
    },
    {
      "cell_type": "code",
      "source": [
        "print(arr[1:]) # starts from index 1"
      ],
      "metadata": {
        "colab": {
          "base_uri": "https://localhost:8080/"
        },
        "id": "fKjMUouYVRgL",
        "outputId": "930a1d9d-ca38-421c-d28e-8b9e2db95b4b"
      },
      "execution_count": 6,
      "outputs": [
        {
          "output_type": "stream",
          "name": "stdout",
          "text": [
            "[ 4  6  8 10 12 14]\n"
          ]
        }
      ]
    },
    {
      "cell_type": "code",
      "source": [
        "print(arr[:5]) # print from beginning index 0 to index 5(exclude 5)"
      ],
      "metadata": {
        "colab": {
          "base_uri": "https://localhost:8080/"
        },
        "id": "pliB51CmVZuv",
        "outputId": "c7d85d9b-5562-4d5f-fd72-7c0d29316ac9"
      },
      "execution_count": 7,
      "outputs": [
        {
          "output_type": "stream",
          "name": "stdout",
          "text": [
            "[ 2  4  6  8 10]\n"
          ]
        }
      ]
    },
    {
      "cell_type": "code",
      "source": [],
      "metadata": {
        "id": "p5goVE6yWHAA"
      },
      "execution_count": null,
      "outputs": []
    },
    {
      "cell_type": "markdown",
      "source": [
        "**NOTE**\n",
        "As with built-in Python sequences, NumPy arrays are “0-indexed”: the first element of the array is accessed using index 0, not 1."
      ],
      "metadata": {
        "id": "Id3CVFNdWFhu"
      }
    },
    {
      "cell_type": "markdown",
      "source": [
        "In NumPy, a dimension of an array is sometimes referred to as an “axis”. This terminology may be useful to disambiguate between the dimensionality of an array and the dimensionality of the data represented by the array. For instance, the array a could represent three points, each lying within a four-dimensional space, but a has only two “axes”.\n",
        "\n",
        "Another difference between an array and a list of lists is that an element of the array can be accessed by specifying the index along each axis within a single set of square brackets, separated by commas. For instance, the element 8 is in row 1 and column 3:"
      ],
      "metadata": {
        "id": "kdLSqqD2WgC_"
      }
    },
    {
      "cell_type": "code",
      "source": [
        "a = np.array([[1, 2, 3, 4], [5, 6, 7, 8], [9, 10, 11, 12]])\n",
        "print(a)\n",
        "\n",
        "# print the element in row 2 and column 4\n",
        "print(f'{a[1,3]} is in row : 2 , column : 4')"
      ],
      "metadata": {
        "colab": {
          "base_uri": "https://localhost:8080/"
        },
        "id": "W-KnOvfQWUSa",
        "outputId": "6676c317-1573-4c9a-8867-1654364b853d"
      },
      "execution_count": 11,
      "outputs": [
        {
          "output_type": "stream",
          "name": "stdout",
          "text": [
            "[[ 1  2  3  4]\n",
            " [ 5  6  7  8]\n",
            " [ 9 10 11 12]]\n",
            "8 is in row : 2 , column : 4\n"
          ]
        }
      ]
    },
    {
      "cell_type": "markdown",
      "source": [
        "It is familiar practice in mathematics to refer to elements of a matrix by the row index first and the column index second. This happens to be true for two-dimensional arrays, but a better mental model is to think of the column index as coming last and the row index as second to last. This generalizes to arrays with any number of dimensions."
      ],
      "metadata": {
        "id": "cnAuUZ7DZSQ_"
      }
    },
    {
      "cell_type": "markdown",
      "source": [
        "# Array attributes"
      ],
      "metadata": {
        "id": "8Ormbrcva1Rf"
      }
    },
    {
      "cell_type": "markdown",
      "source": [
        "The number of dimensions of an array is contained in the ndim attribute."
      ],
      "metadata": {
        "id": "XCRZ-_dJa_fk"
      }
    },
    {
      "cell_type": "code",
      "source": [
        "a.ndim"
      ],
      "metadata": {
        "colab": {
          "base_uri": "https://localhost:8080/"
        },
        "id": "MJxoQIhsXSSX",
        "outputId": "555cdd39-d38d-4c70-f972-e684127ba383"
      },
      "execution_count": 12,
      "outputs": [
        {
          "output_type": "execute_result",
          "data": {
            "text/plain": [
              "2"
            ]
          },
          "metadata": {},
          "execution_count": 12
        }
      ]
    },
    {
      "cell_type": "markdown",
      "source": [
        "The shape of an array is a tuple of non-negative integers that specify the number of elements along each dimension."
      ],
      "metadata": {
        "id": "cMYKky7ebQX3"
      }
    },
    {
      "cell_type": "code",
      "source": [
        "a.shape"
      ],
      "metadata": {
        "colab": {
          "base_uri": "https://localhost:8080/"
        },
        "id": "z6T-ZyiXbEcm",
        "outputId": "f8c9655d-9bf8-43e0-e012-1f0f3afc0446"
      },
      "execution_count": 14,
      "outputs": [
        {
          "output_type": "execute_result",
          "data": {
            "text/plain": [
              "(3, 4)"
            ]
          },
          "metadata": {},
          "execution_count": 14
        }
      ]
    },
    {
      "cell_type": "code",
      "source": [
        "print(len(a.shape)==a.ndim)"
      ],
      "metadata": {
        "colab": {
          "base_uri": "https://localhost:8080/"
        },
        "id": "v39zBA2CbUwe",
        "outputId": "0aee53d5-e606-4d51-c627-2806c4e3e9d6"
      },
      "execution_count": 16,
      "outputs": [
        {
          "output_type": "stream",
          "name": "stdout",
          "text": [
            "True\n"
          ]
        }
      ]
    },
    {
      "cell_type": "markdown",
      "source": [
        "The fixed, total number of elements in array is contained in the size attribute."
      ],
      "metadata": {
        "id": "2PmpleHBcKFc"
      }
    },
    {
      "cell_type": "code",
      "source": [
        "print(f'The Size of the array : {a.size}')\n",
        "import math\n",
        "print(a.size==math.prod(a.shape))"
      ],
      "metadata": {
        "colab": {
          "base_uri": "https://localhost:8080/"
        },
        "id": "ZdeMRLKZbg_1",
        "outputId": "464d4f1e-fcec-4b33-93e8-b8cc1ac8eeed"
      },
      "execution_count": 18,
      "outputs": [
        {
          "output_type": "stream",
          "name": "stdout",
          "text": [
            "The Size of the array : 12\n",
            "True\n"
          ]
        }
      ]
    },
    {
      "cell_type": "markdown",
      "source": [
        "Arrays are typically “homogeneous”, meaning that they contain elements of only one “data type”. The data type is recorded in the dtype attribute."
      ],
      "metadata": {
        "id": "JOw1aubZcVY6"
      }
    },
    {
      "cell_type": "code",
      "source": [
        "print(a.dtype)"
      ],
      "metadata": {
        "colab": {
          "base_uri": "https://localhost:8080/"
        },
        "id": "vbbZFsDocPUe",
        "outputId": "0f65b4c9-f675-453f-b2a1-f23353ae378d"
      },
      "execution_count": 19,
      "outputs": [
        {
          "output_type": "stream",
          "name": "stdout",
          "text": [
            "int64\n"
          ]
        }
      ]
    },
    {
      "cell_type": "code",
      "source": [],
      "metadata": {
        "id": "48WwRkIEcag2"
      },
      "execution_count": null,
      "outputs": []
    }
  ]
}